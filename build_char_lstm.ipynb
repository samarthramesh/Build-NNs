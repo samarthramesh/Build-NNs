{
 "cells": [
  {
   "cell_type": "code",
   "execution_count": 1,
   "metadata": {},
   "outputs": [],
   "source": [
    "import torch\n",
    "import torch.nn.functional as F\n",
    "import matplotlib.pyplot as plt # for making figures\n",
    "import random\n",
    "\n",
    "from torch.nn.utils.rnn import PackedSequence, pack_sequence\n",
    "%matplotlib inline"
   ]
  },
  {
   "cell_type": "code",
   "execution_count": 2,
   "metadata": {},
   "outputs": [
    {
     "name": "stdout",
     "output_type": "stream",
     "text": [
      "25626 25626\n",
      "3203 3203\n",
      "3204 3204\n"
     ]
    }
   ],
   "source": [
    "# read in all the words\n",
    "words = open('names.txt', 'r').read().splitlines()\n",
    "# print(len(words))\n",
    "# print(max(len(w) for w in words))\n",
    "# print(words[:8])\n",
    "\n",
    "# build the vocabulary of characters and mappings to/from integers\n",
    "chars = sorted(list(set(''.join(words))))\n",
    "stoi = {s:i+2 for i,s in enumerate(chars)}\n",
    "stoi['#'] = 0\n",
    "stoi['.'] = 1\n",
    "itos = {i:s for s,i in stoi.items()}\n",
    "vocab_size = len(itos)\n",
    "# print(itos)\n",
    "# print(vocab_size)\n",
    "\n",
    "# shuffle up the words\n",
    "random.seed(42)\n",
    "random.shuffle(words)\n",
    "\n",
    "# build the dataset\n",
    "\n",
    "def build_dataset(words):\n",
    "    X, Y = [], []\n",
    "\n",
    "    for w in words:\n",
    "        letters = list(w)\n",
    "        letters.insert(0, '#')\n",
    "        letters.append('.')\n",
    "        X.append([*map(stoi.get, letters[:-1])])\n",
    "        Y.append([*map(stoi.get, letters[1:])])\n",
    "\n",
    "    # X = torch.tensor(X)\n",
    "    # Y = torch.tensor(Y)\n",
    "    print(len(X), len(Y))\n",
    "    return X, Y\n",
    "\n",
    "n1 = int(0.8*len(words))\n",
    "n2 = int(0.9*len(words))\n",
    "Xtr,  Ytr  = build_dataset(words[:n1])     # 80%\n",
    "Xdev, Ydev = build_dataset(words[n1:n2])   # 10%\n",
    "Xte,  Yte  = build_dataset(words[n2:])     # 10%\n",
    "\n",
    "dataset = {\n",
    "    'train': (Xtr, Ytr),\n",
    "    'val': (Xdev, Ydev),\n",
    "    'test': (Xte, Yte),\n",
    "}"
   ]
  },
  {
   "cell_type": "code",
   "execution_count": 3,
   "metadata": {},
   "outputs": [],
   "source": [
    "class Embedding:\n",
    "  \n",
    "    def __init__(self, num_embeddings, embedding_dim):\n",
    "        self.weight = torch.randn((num_embeddings, embedding_dim))\n",
    "    \n",
    "    def forward(self, input):\n",
    "        input, batch_sizes, sorted_indices, unsorted_indices = input\n",
    "        self.out = self.weight[input]\n",
    "        return PackedSequence(self.out, batch_sizes, sorted_indices, unsorted_indices)\n",
    "  \n",
    "    def parameters(self):\n",
    "        return [self.weight]\n",
    "    \n",
    "    def to(self, device):\n",
    "        self.weight = self.weight.to(device)\n",
    "\n",
    "class LSTM:\n",
    "\n",
    "    def __init__(self, input_size, hidden_size, device = torch.device(\"cpu\")) -> None:\n",
    "        self.input_size = input_size\n",
    "        self.hidden_size = hidden_size\n",
    "        self.device = device\n",
    "        self.wih = torch.randn(4 * hidden_size, input_size).uniform_(-hidden_size**-0.5, hidden_size**-0.5).to(device)\n",
    "        self.whh = torch.randn(4 * hidden_size, hidden_size).uniform_(-hidden_size**-0.5, hidden_size**-0.5).to(device)\n",
    "        self.bih = torch.randn(4 * hidden_size).uniform_(-hidden_size**-0.5, hidden_size**-0.5).to(device)\n",
    "        self.bhh = torch.randn(4 * hidden_size).uniform_(-hidden_size**-0.5, hidden_size**-0.5).to(device)\n",
    "\n",
    "    def forward(self, input, hx = None):\n",
    "        input, batch_sizes, sorted_indices, unsorted_indices = input\n",
    "        max_batch_size = int(batch_sizes[0])\n",
    "\n",
    "        if hx is None:\n",
    "            hidden = torch.zeros(max_batch_size, self.hidden_size).to(self.device)\n",
    "            cell = torch.zeros(max_batch_size, self.hidden_size).to(self.device)\n",
    "        else:\n",
    "            hidden = hx[0].index_select(0, sorted_indices)\n",
    "            cell = hx[1].index_select(0, sorted_indices)\n",
    "\n",
    "        split_inputs = torch.split(input, list(batch_sizes), dim=0)\n",
    "        out = []\n",
    "        out_hidden = []\n",
    "        out_cell = []\n",
    "        \n",
    "        for i in range(len(batch_sizes)):\n",
    "            size = batch_sizes[i]\n",
    "            diff = hidden.shape[0] - size\n",
    "            if diff > 0:\n",
    "                out_hidden.insert(0, hidden[-diff:, :])\n",
    "                out_cell.insert(0, cell[-diff:, :])\n",
    "                hidden = hidden[:size, :]\n",
    "                cell = cell[:size, :]\n",
    "\n",
    "            preact = (split_inputs[i] @ self.wih.T + self.bih + hidden @ self.whh.T + self.bhh)\n",
    "            i, f, g, o = torch.split(preact, [self.hidden_size] * 4, dim=1)\n",
    "            i = torch.sigmoid(i)\n",
    "            f = torch.sigmoid(f)\n",
    "            g = torch.tanh(g)\n",
    "            o = torch.sigmoid(o)\n",
    "            cell = f * cell + i*g\n",
    "            hidden = o * torch.tanh(cell)\n",
    "            out.append(hidden)\n",
    "\n",
    "        out_hidden.insert(0, hidden)\n",
    "        out_cell.insert(0, cell)\n",
    "        out_hidden = torch.cat(out_hidden, dim=0).index_select(0, unsorted_indices)\n",
    "        out_cell = torch.cat(out_cell, dim=0).index_select(0, unsorted_indices)\n",
    "        out = torch.cat(out, dim=0)\n",
    "        out = PackedSequence(out, batch_sizes, sorted_indices, unsorted_indices)\n",
    "\n",
    "        return out, (out_hidden, out_cell)\n",
    "\n",
    "    def parameters(self):\n",
    "        return [self.wih, self.whh, self.bih, self.bhh]\n",
    "    \n",
    "    def to(self, device):\n",
    "        self.device = device\n",
    "        self.wih = self.wih.to(device)\n",
    "        self.whh = self.whh.to(device)\n",
    "        self.bih = self.bih.to(device)\n",
    "        self.bhh = self.bhh.to(device)\n",
    "\n",
    "class Linear:\n",
    "  \n",
    "    def __init__(self, fan_in, fan_out, bias=True):\n",
    "        self.weight = torch.randn((fan_in, fan_out)) / fan_in**0.5 # note: kaiming init\n",
    "        self.bias = torch.zeros(fan_out) if bias else None\n",
    "  \n",
    "    def forward(self, input):\n",
    "        input, batch_sizes, sorted_indices, unsorted_indices = input\n",
    "        self.out = input @ self.weight\n",
    "        if self.bias is not None:\n",
    "            self.out += self.bias\n",
    "        return PackedSequence(self.out, batch_sizes, sorted_indices, unsorted_indices)\n",
    "  \n",
    "    def parameters(self):\n",
    "        return [self.weight] + ([] if self.bias is None else [self.bias])\n",
    "    \n",
    "    def to(self, device):\n",
    "        self.weight = self.weight.to(device)\n",
    "        self.bias = self.bias.to(device)\n",
    "\n",
    "class CharLSTM:\n",
    "   \n",
    "    def __init__(self, vocab_size, emb_size, hidden_size, pred_size):\n",
    "        self.emb = Embedding(vocab_size, emb_size)\n",
    "        self.lstm = LSTM(emb_size, hidden_size)\n",
    "        self.fc = Linear(hidden_size, pred_size)\n",
    "\n",
    "    def forward(self, input):\n",
    "        embs = self.emb.forward(input)\n",
    "        out, (hidden, cell) = self.lstm.forward(embs)\n",
    "        logits = self.fc.forward(out)\n",
    "        return logits\n",
    "    \n",
    "    def parameters(self):\n",
    "        return self.emb.parameters() + self.lstm.parameters() + self.fc.parameters()\n",
    "    \n",
    "    def to(self, device):\n",
    "        self.emb.to(device)\n",
    "        self.lstm.to(device)\n",
    "        self.fc.to(device)\n",
    "    "
   ]
  },
  {
   "cell_type": "code",
   "execution_count": 4,
   "metadata": {},
   "outputs": [],
   "source": [
    "# evaluate the loss\n",
    "@torch.no_grad() # this decorator disables gradient tracking inside pytorch\n",
    "def split_loss(split, dataset, model, device):\n",
    "    x,y = dataset[split]\n",
    "    x, y = [torch.tensor(xi) for xi in x], [torch.tensor(yi) for yi in y] # batch X,Y\n",
    "    x, y = pack_sequence(x, enforce_sorted=False), pack_sequence(y, enforce_sorted=False)\n",
    "    x, y = x.to(device), y.to(device)\n",
    "    logits, _, _, _ = model.forward(x)\n",
    "    y, _, _, _ = y\n",
    "    loss = F.cross_entropy(logits, y)\n",
    "    return loss.item()"
   ]
  },
  {
   "cell_type": "code",
   "execution_count": 5,
   "metadata": {},
   "outputs": [
    {
     "name": "stdout",
     "output_type": "stream",
     "text": [
      "Device: cuda:0\n"
     ]
    },
    {
     "name": "stdout",
     "output_type": "stream",
     "text": [
      "104732\n"
     ]
    }
   ],
   "source": [
    "n_emb = 64\n",
    "n_hidden = 128\n",
    "use_gpu = True\n",
    "device = torch.device(\"cuda:0\" if torch.cuda.is_available() and use_gpu else \"cpu\")\n",
    "print(f\"Device: {device}\")\n",
    "\n",
    "model = CharLSTM(vocab_size, n_emb, n_hidden, vocab_size)\n",
    "model.to(device)\n",
    "\n",
    "parameters = model.parameters()\n",
    "print(sum(p.nelement() for p in parameters)) # number of parameters in total\n",
    "for p in parameters:\n",
    "  p.requires_grad = True"
   ]
  },
  {
   "cell_type": "code",
   "execution_count": 7,
   "metadata": {},
   "outputs": [
    {
     "name": "stdout",
     "output_type": "stream",
     "text": [
      "      0/ 100000: 3.3470, 3.3471\n"
     ]
    }
   ],
   "source": [
    "max_steps = 100000\n",
    "batch_size = 128\n",
    "lossi = []\n",
    "tr_losses = []\n",
    "val_losses = []\n",
    "\n",
    "for i in range(max_steps):\n",
    "  \n",
    "    # minibatch construct\n",
    "    ix = torch.randint(0, len(Xtr), (batch_size,))\n",
    "    Xb, Yb = [torch.tensor(Xtr[i]) for i in ix], [torch.tensor(Ytr[i]) for i in ix] # batch X,Y\n",
    "    Xb, Yb = pack_sequence(Xb, enforce_sorted=False), pack_sequence(Yb, enforce_sorted=False)\n",
    "    Xb, Yb = Xb.to(device), Yb.to(device)\n",
    "  \n",
    "    # forward pass\n",
    "    logits, batch_sizes, sorted_indices, unsorted_indices = model.forward(Xb)\n",
    "    Yb, batch_sizes, sorted_indices, unsorted_indices2 = Yb\n",
    "    loss = F.cross_entropy(logits, Yb) # loss function\n",
    "\n",
    "    # backward pass\n",
    "    for p in parameters:\n",
    "        p.grad = None\n",
    "    loss.backward()\n",
    "  \n",
    "    # update: simple SGD\n",
    "    # lr = 0.1 if i < 150000 else 0.01 # step learning rate decay\n",
    "    lr = 0.01\n",
    "    for p in parameters:\n",
    "        p.data += -lr * p.grad\n",
    "\n",
    "    # track stats\n",
    "    if i % 5000 == 0: # print every once in a while\n",
    "        tr_losses.append(split_loss('train', dataset, model, device))\n",
    "        val_losses.append(split_loss('val', dataset, model, device))\n",
    "        print(f'{i:7d}/{max_steps:7d}: {tr_losses[-1]:.4f}, {val_losses[-1]:.4f}')\n",
    "    lossi.append(loss.log10().item())"
   ]
  },
  {
   "cell_type": "code",
   "execution_count": 8,
   "metadata": {},
   "outputs": [
    {
     "data": {
      "text/plain": [
       "(tensor([[-0.0408, -0.0905, -0.0693,  ..., -0.0591, -0.0478, -0.0121],\n",
       "         [-0.0408, -0.0905, -0.0693,  ..., -0.0591, -0.0478, -0.0121],\n",
       "         [-0.0408, -0.0905, -0.0693,  ..., -0.0591, -0.0478, -0.0121],\n",
       "         ...,\n",
       "         [ 0.1334,  0.0221, -0.0768,  ..., -0.1717,  0.1296, -0.0188],\n",
       "         [ 0.0480, -0.0877, -0.2677,  ...,  0.0280, -0.1399,  0.0178],\n",
       "         [-0.3193, -0.0017,  0.2245,  ...,  0.1724,  0.0616, -0.0625]],\n",
       "        device='cuda:0', grad_fn=<AddBackward0>),\n",
       " tensor([128, 128, 128, 128, 125, 115,  76,  39,  15,   4,   2]),\n",
       " tensor([ 41,  75, 120,  89,   1,  42,  45,  28,  23,  19,  18,  15,  82, 116,\n",
       "           8, 109,  64, 114,  50, 113,  53,  56,  57,  67,  93,  68,  69,  71,\n",
       "         107, 102,  79, 101,  80,  33,   9,  26,   3,  29,  11,  22,   6,  85,\n",
       "          96,  83,  63,   0,  13,  81,  24,  58,  21, 103,  72,  73,  14,  99,\n",
       "          76,  97,  78, 111,  40,  32, 121, 119, 118,  95,  46,  47,  48,  49,\n",
       "          88,  52,   4,  54,   5, 123,  92, 127,  94,  98, 100, 104, 105, 106,\n",
       "           7, 108, 117, 122, 124, 125, 126,  34,  30,  51,  44,  27,  55,  43,\n",
       "          25,  91,  31,  39,  62,  65,  70,  37,  36,  74,  17,  77,  16,  35,\n",
       "          86,  87,  12,  38,   2,  59, 115, 110,  60,  20,  10,  84,  90, 112,\n",
       "          61,  66], device='cuda:0'),\n",
       " tensor([ 45,   4, 116,  36,  72,  74,  40,  84,  14,  34, 122,  38, 114,  46,\n",
       "          54,  11, 110, 108,  10,   9, 121,  50,  39,   8,  48,  98,  35,  95,\n",
       "           7,  37,  92, 100,  61,  33,  91, 111, 106, 105, 115, 101,  60,   0,\n",
       "           5,  97,  94,   6,  66,  67,  68,  69,  18,  93,  71,  20,  73,  96,\n",
       "          21,  22,  49, 117, 120, 126, 102,  44,  16, 103, 127,  23,  25,  26,\n",
       "         104,  27,  52,  53, 107,   1,  56, 109,  58,  30,  32,  47,  12,  43,\n",
       "         123,  41, 112, 113,  70,   3, 124,  99,  76,  24,  78,  65,  42,  57,\n",
       "          79,  55,  80,  31,  29,  51,  81,  82,  83,  28,  85,  15, 119,  59,\n",
       "         125,  19,  17, 118,  13,  86,  64,  63,   2,  62,  87,  75,  88,  89,\n",
       "          90,  77], device='cuda:0'))"
      ]
     },
     "execution_count": 8,
     "metadata": {},
     "output_type": "execute_result"
    }
   ],
   "source": [
    "logits, batch_sizes, sorted_indices, unsorted_indices"
   ]
  },
  {
   "cell_type": "code",
   "execution_count": 13,
   "metadata": {},
   "outputs": [
    {
     "name": "stdout",
     "output_type": "stream",
     "text": [
      "train 1.7748304605484009\n",
      "val 1.98365318775177\n"
     ]
    }
   ],
   "source": [
    "print(\"train\", split_loss('train', dataset, model, device))\n",
    "print(\"val\", split_loss('val', dataset, model, device))"
   ]
  },
  {
   "cell_type": "code",
   "execution_count": 14,
   "metadata": {},
   "outputs": [
    {
     "data": {
      "text/plain": [
       "[<matplotlib.lines.Line2D at 0x7f6bc81354e0>]"
      ]
     },
     "execution_count": 14,
     "metadata": {},
     "output_type": "execute_result"
    },
    {
     "data": {
      "image/png": "[encoded data removed]",
      "text/plain": [
       "<Figure size 640x480 with 1 Axes>"
      ]
     },
     "metadata": {},
     "output_type": "display_data"
    }
   ],
   "source": [
    "plt.plot(torch.tensor(tr_losses))\n",
    "plt.plot(torch.tensor(val_losses))"
   ]
  },
  {
   "cell_type": "code",
   "execution_count": 15,
   "metadata": {},
   "outputs": [
    {
     "data": {
      "text/plain": [
       "[<matplotlib.lines.Line2D at 0x7f6ba54f89a0>]"
      ]
     },
     "execution_count": 15,
     "metadata": {},
     "output_type": "execute_result"
    },
    {
     "data": {
      "image/png": "[encoded data removed]",
      "text/plain": [
       "<Figure size 640x480 with 1 Axes>"
      ]
     },
     "metadata": {},
     "output_type": "display_data"
    }
   ],
   "source": [
    "plt.plot(torch.tensor(lossi).view(-1, 100).mean(1))"
   ]
  },
  {
   "cell_type": "code",
   "execution_count": 16,
   "metadata": {},
   "outputs": [
    {
     "name": "stdout",
     "output_type": "stream",
     "text": [
      "Using device: cuda\n",
      "\n",
      "NVIDIA GeForce RTX 3060 Laptop GPU\n",
      "Memory Usage:\n",
      "Allocated: 0.0 GB\n",
      "Cached:    0.5 GB\n"
     ]
    }
   ],
   "source": [
    "# setting device on GPU if available, else CPU\n",
    "device = torch.device('cuda' if torch.cuda.is_available() else 'cpu')\n",
    "print('Using device:', device)\n",
    "print()\n",
    "\n",
    "#Additional Info when using cuda\n",
    "if device.type == 'cuda':\n",
    "    print(torch.cuda.get_device_name(0))\n",
    "    print('Memory Usage:')\n",
    "    print('Allocated:', round(torch.cuda.memory_allocated(0)/1024**3,1), 'GB')\n",
    "    print('Cached:   ', round(torch.cuda.memory_reserved(0)/1024**3,1), 'GB')"
   ]
  },
  {
   "cell_type": "code",
   "execution_count": 17,
   "metadata": {},
   "outputs": [
    {
     "data": {
      "text/plain": [
       "0"
      ]
     },
     "execution_count": 17,
     "metadata": {},
     "output_type": "execute_result"
    }
   ],
   "source": [
    "import os\n",
    "os.system('spd-say \"training complete\"')"
   ]
  },
  {
   "cell_type": "code",
   "execution_count": null,
   "metadata": {},
   "outputs": [],
   "source": []
  }
 ],
 "metadata": {
  "kernelspec": {
   "display_name": ".env",
   "language": "python",
   "name": "python3"
  },
  "language_info": {
   "codemirror_mode": {
    "name": "ipython",
    "version": 3
   },
   "file_extension": ".py",
   "mimetype": "text/x-python",
   "name": "python",
   "nbconvert_exporter": "python",
   "pygments_lexer": "ipython3",
   "version": "3.10.6"
  },
  "orig_nbformat": 4
 },
 "nbformat": 4,
 "nbformat_minor": 2
}
