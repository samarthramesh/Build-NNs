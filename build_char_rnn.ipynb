{
 "cells": [
  {
   "cell_type": "code",
   "execution_count": 7,
   "metadata": {},
   "outputs": [],
   "source": [
    "import torch\n",
    "import torch.nn.functional as F\n",
    "import matplotlib.pyplot as plt # for making figures\n",
    "import random\n",
    "\n",
    "from torch.nn.utils.rnn import PackedSequence, pack_sequence, unpack_sequence\n",
    "%matplotlib inline"
   ]
  },
  {
   "cell_type": "code",
   "execution_count": 2,
   "metadata": {},
   "outputs": [
    {
     "name": "stdout",
     "output_type": "stream",
     "text": [
      "25626 25626\n",
      "3203 3203\n",
      "3204 3204\n"
     ]
    }
   ],
   "source": [
    "# read in all the words\n",
    "words = open('names.txt', 'r').read().splitlines()\n",
    "# print(len(words))\n",
    "# print(max(len(w) for w in words))\n",
    "# print(words[:8])\n",
    "\n",
    "# build the vocabulary of characters and mappings to/from integers\n",
    "chars = sorted(list(set(''.join(words))))\n",
    "stoi = {s:i+2 for i,s in enumerate(chars)}\n",
    "stoi['#'] = 0\n",
    "stoi['.'] = 1\n",
    "itos = {i:s for s,i in stoi.items()}\n",
    "vocab_size = len(itos)\n",
    "# print(itos)\n",
    "# print(vocab_size)\n",
    "\n",
    "# shuffle up the words\n",
    "random.seed(42)\n",
    "random.shuffle(words)\n",
    "\n",
    "# build the dataset\n",
    "\n",
    "def build_dataset(words):\n",
    "    X, Y = [], []\n",
    "\n",
    "    for w in words:\n",
    "        letters = list(w)\n",
    "        letters.insert(0, '#')\n",
    "        letters.append('.')\n",
    "        X.append([*map(stoi.get, letters[:-1])])\n",
    "        Y.append([*map(stoi.get, letters[1:])])\n",
    "\n",
    "    # X = torch.tensor(X)\n",
    "    # Y = torch.tensor(Y)\n",
    "    print(len(X), len(Y))\n",
    "    return X, Y\n",
    "\n",
    "n1 = int(0.8*len(words))\n",
    "n2 = int(0.9*len(words))\n",
    "Xtr,  Ytr  = build_dataset(words[:n1])     # 80%\n",
    "Xdev, Ydev = build_dataset(words[n1:n2])   # 10%\n",
    "Xte,  Yte  = build_dataset(words[n2:])     # 10%\n",
    "\n",
    "dataset = {\n",
    "    'train': (Xtr, Ytr),\n",
    "    'val': (Xdev, Ydev),\n",
    "    'test': (Xte, Yte),\n",
    "}"
   ]
  },
  {
   "cell_type": "code",
   "execution_count": 3,
   "metadata": {},
   "outputs": [],
   "source": [
    "class Embedding:\n",
    "  \n",
    "    def __init__(self, num_embeddings, embedding_dim):\n",
    "        self.weight = torch.randn((num_embeddings, embedding_dim))\n",
    "    \n",
    "    def forward(self, input):\n",
    "        input, batch_sizes, sorted_indices, unsorted_indices = input\n",
    "        self.out = self.weight[input]\n",
    "        return PackedSequence(self.out, batch_sizes, sorted_indices, unsorted_indices)\n",
    "  \n",
    "    def parameters(self):\n",
    "        return [self.weight]\n",
    "    \n",
    "    def to(self, device):\n",
    "        self.weight = self.weight.to(device)\n",
    "  \n",
    "\n",
    "\n",
    "# fix initialisation values\n",
    "class RNN:\n",
    "\n",
    "    def __init__(self, input_size, hidden_size, act_fn = torch.tanh, device = torch.device(\"cpu\")) -> None:\n",
    "        self.input_size = input_size\n",
    "        self.hidden_size = hidden_size\n",
    "        self.act_fn = act_fn\n",
    "        self.device = device\n",
    "        self.wih = torch.randn(hidden_size, input_size).uniform_(-hidden_size**-0.5, hidden_size**-0.5).to(device)\n",
    "        self.whh = torch.randn(hidden_size, hidden_size).uniform_(-hidden_size**-0.5, hidden_size**-0.5).to(device)\n",
    "        self.bih = torch.randn(hidden_size).uniform_(-hidden_size**-0.5, hidden_size**-0.5).to(device)\n",
    "        self.bhh = torch.randn(hidden_size).uniform_(-hidden_size**-0.5, hidden_size**-0.5).to(device)\n",
    "\n",
    "    def forward(self, input, hidden=None):\n",
    "        input, batch_sizes, sorted_indices, unsorted_indices = input\n",
    "        max_batch_size = int(batch_sizes[0])\n",
    "\n",
    "        if hidden is None:\n",
    "            hidden = torch.zeros(max_batch_size, self.hidden_size).to(self.device)\n",
    "        else:\n",
    "            hidden = hidden.index_select(0, sorted_indices)\n",
    "\n",
    "        split_inputs = torch.split(input, list(batch_sizes), dim=0)\n",
    "        out = []\n",
    "        out_hidden = []\n",
    "        for i in range(len(batch_sizes)):\n",
    "            size = batch_sizes[i]\n",
    "            diff = hidden.shape[0] - size\n",
    "            if diff > 0:\n",
    "                out_hidden.insert(0, hidden[-diff:, :])\n",
    "                hidden = hidden[:size, :]\n",
    "            hidden = self.act_fn((split_inputs[i] @ self.wih.T + self.bih) + hidden @ self.whh.T + self.bhh)\n",
    "            out.append(hidden)\n",
    "        out_hidden.insert(0, hidden)\n",
    "        out_hidden = torch.cat(out_hidden, dim=0).index_select(0, unsorted_indices)\n",
    "        out = torch.cat(out, dim=0)\n",
    "        out = PackedSequence(out, batch_sizes, sorted_indices, unsorted_indices)\n",
    "\n",
    "        return out, out_hidden\n",
    "\n",
    "    def parameters(self):\n",
    "        return [self.wih, self.whh, self.bih, self.bhh]\n",
    "    \n",
    "    def to(self, device):\n",
    "        self.device = device\n",
    "        self.wih = self.wih.to(device)\n",
    "        self.whh = self.whh.to(device)\n",
    "        self.bih = self.bih.to(device)\n",
    "        self.bhh = self.bhh.to(device)\n",
    "\n",
    "class Linear:\n",
    "  \n",
    "    def __init__(self, fan_in, fan_out, bias=True):\n",
    "        self.weight = torch.randn((fan_in, fan_out)) / fan_in**0.5 # note: kaiming init\n",
    "        self.bias = torch.zeros(fan_out) if bias else None\n",
    "  \n",
    "    def forward(self, input):\n",
    "        input, batch_sizes, sorted_indices, unsorted_indices = input\n",
    "        self.out = input @ self.weight\n",
    "        if self.bias is not None:\n",
    "            self.out += self.bias\n",
    "        return PackedSequence(self.out, batch_sizes, sorted_indices, unsorted_indices)\n",
    "  \n",
    "    def parameters(self):\n",
    "        return [self.weight] + ([] if self.bias is None else [self.bias])\n",
    "    \n",
    "    def to(self, device):\n",
    "        self.weight = self.weight.to(device)\n",
    "        self.bias = self.bias.to(device)\n",
    "\n",
    "class CharRNN:\n",
    "   \n",
    "    def __init__(self, vocab_size, emb_size, hidden_size, pred_size, act_fn = torch.tanh):\n",
    "        self.emb = Embedding(vocab_size, emb_size)\n",
    "        self.rnn = RNN(emb_size, hidden_size, act_fn)\n",
    "        self.fc = Linear(hidden_size, pred_size)\n",
    "\n",
    "    def forward(self, input):\n",
    "        embs = self.emb.forward(input)\n",
    "        out, hidden = self.rnn.forward(embs)\n",
    "        logits = self.fc.forward(out)\n",
    "        return logits\n",
    "    \n",
    "    def parameters(self):\n",
    "        return self.emb.parameters() + self.rnn.parameters() + self.fc.parameters()\n",
    "    \n",
    "    def to(self, device):\n",
    "        self.emb.to(device)\n",
    "        self.rnn.to(device)\n",
    "        self.fc.to(device)\n",
    "    "
   ]
  },
  {
   "cell_type": "code",
   "execution_count": 5,
   "metadata": {},
   "outputs": [],
   "source": [
    "ix = torch.randint(0, len(Xtr), (2,))\n",
    "Xb, Yb = [torch.tensor(Xtr[i]) for i in ix], [torch.tensor(Ytr[i]) for i in ix] # batch X,Y\n",
    "Xb, Yb = pack_sequence(Xb, enforce_sorted=False), pack_sequence(Yb, enforce_sorted=False)"
   ]
  },
  {
   "cell_type": "code",
   "execution_count": 8,
   "metadata": {},
   "outputs": [],
   "source": [
    "x = unpack_sequence(Xb)"
   ]
  },
  {
   "cell_type": "code",
   "execution_count": 9,
   "metadata": {},
   "outputs": [],
   "source": [
    "y = unpack_sequence(Yb)"
   ]
  },
  {
   "cell_type": "code",
   "execution_count": null,
   "metadata": {},
   "outputs": [],
   "source": []
  },
  {
   "cell_type": "code",
   "execution_count": 10,
   "metadata": {},
   "outputs": [
    {
     "data": {
      "text/plain": [
       "[tensor([ 0,  2,  5,  9, 19, 10, 21]), tensor([ 0, 13, 10, 15, 16])]"
      ]
     },
     "execution_count": 10,
     "metadata": {},
     "output_type": "execute_result"
    }
   ],
   "source": [
    "x"
   ]
  },
  {
   "cell_type": "code",
   "execution_count": null,
   "metadata": {},
   "outputs": [],
   "source": []
  },
  {
   "cell_type": "code",
   "execution_count": 4,
   "metadata": {},
   "outputs": [],
   "source": [
    "# evaluate the loss\n",
    "@torch.no_grad() # this decorator disables gradient tracking inside pytorch\n",
    "def split_loss(split, dataset, model, device):\n",
    "    x,y = dataset[split]\n",
    "    x, y = [torch.tensor(xi) for xi in x], [torch.tensor(yi) for yi in y] # batch X,Y\n",
    "    x, y = pack_sequence(x, enforce_sorted=False), pack_sequence(y, enforce_sorted=False)\n",
    "    x, y = x.to(device), y.to(device)\n",
    "    logits, _, _, _ = model.forward(x)\n",
    "    y, _, _, _ = y\n",
    "    loss = F.cross_entropy(logits, y)\n",
    "    return loss.item()"
   ]
  },
  {
   "cell_type": "code",
   "execution_count": 5,
   "metadata": {},
   "outputs": [
    {
     "name": "stdout",
     "output_type": "stream",
     "text": [
      "Device: cuda:0\n",
      "109596\n"
     ]
    }
   ],
   "source": [
    "n_emb = 128\n",
    "n_hidden = 256\n",
    "use_gpu = True\n",
    "device = torch.device(\"cuda:0\" if torch.cuda.is_available() and use_gpu else \"cpu\")\n",
    "print(f\"Device: {device}\")\n",
    "\n",
    "# act_fn = torch.tanh\n",
    "act_fn = F.relu\n",
    "model = CharRNN(vocab_size, n_emb, n_hidden, vocab_size, act_fn)\n",
    "model.to(device)\n",
    "\n",
    "parameters = model.parameters()\n",
    "print(sum(p.nelement() for p in parameters)) # number of parameters in total\n",
    "for p in parameters:\n",
    "  p.requires_grad = True"
   ]
  },
  {
   "cell_type": "code",
   "execution_count": 7,
   "metadata": {},
   "outputs": [
    {
     "name": "stdout",
     "output_type": "stream",
     "text": [
      "      0/  50000: 3.2914, 3.2901\n",
      "   5000/  50000: 1.9714, 2.0216\n",
      "  10000/  50000: 1.8780, 1.9830\n",
      "  15000/  50000: 1.8154, 1.9786\n",
      "  20000/  50000: 1.7697, 1.9889\n",
      "  25000/  50000: 1.7325, 2.0075\n",
      "  30000/  50000: 1.7002, 2.0260\n",
      "  35000/  50000: 1.6746, 2.0529\n",
      "  40000/  50000: 1.6535, 2.0749\n",
      "  45000/  50000: 1.6383, 2.1013\n"
     ]
    }
   ],
   "source": [
    "max_steps = 50000\n",
    "batch_size = 128\n",
    "lossi = []\n",
    "tr_losses = []\n",
    "val_losses = []\n",
    "\n",
    "for i in range(max_steps):\n",
    "  \n",
    "    # minibatch construct\n",
    "    ix = torch.randint(0, len(Xtr), (batch_size,))\n",
    "    Xb, Yb = [torch.tensor(Xtr[i]) for i in ix], [torch.tensor(Ytr[i]) for i in ix] # batch X,Y\n",
    "    Xb, Yb = pack_sequence(Xb, enforce_sorted=False), pack_sequence(Yb, enforce_sorted=False)\n",
    "    Xb, Yb = Xb.to(device), Yb.to(device)\n",
    "  \n",
    "    # forward pass\n",
    "    logits, batch_sizes, sorted_indices, unsorted_indices = model.forward(Xb)\n",
    "    Yb, batch_sizes, sorted_indices, unsorted_indices2 = Yb\n",
    "    loss = F.cross_entropy(logits, Yb) # loss function\n",
    "\n",
    "    # backward pass\n",
    "    for p in parameters:\n",
    "        p.grad = None\n",
    "    loss.backward()\n",
    "  \n",
    "    # update: simple SGD\n",
    "    lr = 0.1 if i < 150000 else 0.01 # step learning rate decay\n",
    "    for p in parameters:\n",
    "        p.data += -lr * p.grad\n",
    "\n",
    "    # track stats\n",
    "    if i % 5000 == 0: # print every once in a while\n",
    "        tr_losses.append(split_loss('train', dataset, model, device))\n",
    "        val_losses.append(split_loss('val', dataset, model, device))\n",
    "        print(f'{i:7d}/{max_steps:7d}: {tr_losses[-1]:.4f}, {val_losses[-1]:.4f}')\n",
    "    lossi.append(loss.log10().item())"
   ]
  },
  {
   "cell_type": "code",
   "execution_count": 8,
   "metadata": {},
   "outputs": [
    {
     "name": "stdout",
     "output_type": "stream",
     "text": [
      "train 1.6241146326065063\n",
      "val 2.1293365955352783\n"
     ]
    }
   ],
   "source": [
    "print(\"train\", split_loss('train', dataset, model, device))\n",
    "print(\"val\", split_loss('val', dataset, model, device))"
   ]
  },
  {
   "cell_type": "markdown",
   "metadata": {},
   "source": [
    "Results\n",
    "- tanh, no initialisation, 2.0982, 2.1465\n",
    "- relu, no initialisation, 2.0902, 2.1426"
   ]
  },
  {
   "cell_type": "code",
   "execution_count": 9,
   "metadata": {},
   "outputs": [
    {
     "data": {
      "text/plain": [
       "[<matplotlib.lines.Line2D at 0x7fc92e2d8af0>]"
      ]
     },
     "execution_count": 9,
     "metadata": {},
     "output_type": "execute_result"
    },
    {
     "data": {
      "image/png": "[encoded data removed]",
      "text/plain": [
       "<Figure size 640x480 with 1 Axes>"
      ]
     },
     "metadata": {},
     "output_type": "display_data"
    }
   ],
   "source": [
    "plt.plot(torch.tensor(tr_losses))\n",
    "plt.plot(torch.tensor(val_losses))"
   ]
  },
  {
   "cell_type": "code",
   "execution_count": 10,
   "metadata": {},
   "outputs": [
    {
     "data": {
      "text/plain": [
       "[<matplotlib.lines.Line2D at 0x7fc9213448b0>]"
      ]
     },
     "execution_count": 10,
     "metadata": {},
     "output_type": "execute_result"
    },
    {
     "data": {
      "image/png": "[encoded data removed]",
      "text/plain": [
       "<Figure size 640x480 with 1 Axes>"
      ]
     },
     "metadata": {},
     "output_type": "display_data"
    }
   ],
   "source": [
    "plt.plot(torch.tensor(lossi).view(-1, 100).mean(1))"
   ]
  },
  {
   "cell_type": "code",
   "execution_count": 11,
   "metadata": {},
   "outputs": [
    {
     "name": "stdout",
     "output_type": "stream",
     "text": [
      "Using device: cuda\n",
      "\n",
      "NVIDIA GeForce RTX 3060 Laptop GPU\n",
      "Memory Usage:\n",
      "Allocated: 0.0 GB\n",
      "Cached:    0.7 GB\n"
     ]
    }
   ],
   "source": [
    "# setting device on GPU if available, else CPU\n",
    "device = torch.device('cuda' if torch.cuda.is_available() else 'cpu')\n",
    "print('Using device:', device)\n",
    "print()\n",
    "\n",
    "#Additional Info when using cuda\n",
    "if device.type == 'cuda':\n",
    "    print(torch.cuda.get_device_name(0))\n",
    "    print('Memory Usage:')\n",
    "    print('Allocated:', round(torch.cuda.memory_allocated(0)/1024**3,1), 'GB')\n",
    "    print('Cached:   ', round(torch.cuda.memory_reserved(0)/1024**3,1), 'GB')"
   ]
  },
  {
   "cell_type": "code",
   "execution_count": null,
   "metadata": {},
   "outputs": [],
   "source": []
  }
 ],
 "metadata": {
  "kernelspec": {
   "display_name": ".env",
   "language": "python",
   "name": "python3"
  },
  "language_info": {
   "codemirror_mode": {
    "name": "ipython",
    "version": 3
   },
   "file_extension": ".py",
   "mimetype": "text/x-python",
   "name": "python",
   "nbconvert_exporter": "python",
   "pygments_lexer": "ipython3",
   "version": "3.10.6"
  },
  "orig_nbformat": 4
 },
 "nbformat": 4,
 "nbformat_minor": 2
}
