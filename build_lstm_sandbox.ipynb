{
 "cells": [
  {
   "cell_type": "code",
   "execution_count": 1,
   "metadata": {},
   "outputs": [],
   "source": [
    "import torch\n",
    "import torch.nn.functional as F\n",
    "import matplotlib.pyplot as plt # for making figures\n",
    "import random\n",
    "\n",
    "from torch.nn.utils.rnn import PackedSequence\n",
    "%matplotlib inline"
   ]
  },
  {
   "cell_type": "code",
   "execution_count": 2,
   "metadata": {},
   "outputs": [
    {
     "data": {
      "text/plain": [
       "tensor(True)"
      ]
     },
     "execution_count": 2,
     "metadata": {},
     "output_type": "execute_result"
    }
   ],
   "source": [
    "from torch.nn.utils.rnn import pack_sequence, pack_padded_sequence\n",
    "a = torch.randn(3, 10)\n",
    "b = torch.randn(2, 10)\n",
    "c = torch.randn(7, 10)\n",
    "d = pack_sequence([a, b, c], enforce_sorted=False)\n",
    "\n",
    "a = torch.cat((a, torch.zeros(4, 10)))\n",
    "b = torch.cat((b, torch.zeros(5, 10)))\n",
    "f = torch.stack([a, b, c])\n",
    "e = pack_padded_sequence(f, [3,2,7], batch_first = True, enforce_sorted=False)\n",
    "(d[0] == e[0]).all()"
   ]
  },
  {
   "cell_type": "code",
   "execution_count": 3,
   "metadata": {},
   "outputs": [],
   "source": [
    "def cmp(label, t1, t2):\n",
    "  ex = torch.all(t1 == t2).item()\n",
    "  app = torch.allclose(t1, t2, rtol=1e-04, atol=1e-07)\n",
    "  maxdiff = (t1 - t2).abs().max().item()\n",
    "  print(f'{label} | exact: {str(ex):5s} | approximate: {str(app):5s} | maxdiff: {maxdiff}')\n",
    "  print()"
   ]
  },
  {
   "cell_type": "code",
   "execution_count": 4,
   "metadata": {},
   "outputs": [],
   "source": [
    "torch.manual_seed(42)\n",
    "a = torch.randn(3, 10)\n",
    "b = torch.randn(2, 10)\n",
    "c = torch.randn(7, 10)\n",
    "d = torch.randn(6, 10)\n",
    "e = pack_sequence([a, b, c, d], enforce_sorted=False)\n",
    "lstm = torch.nn.LSTM(input_size = 10, hidden_size = 20)\n",
    "out, (hn, cn) = lstm.forward(e)\n",
    "out_unpacked = torch.nn.utils.rnn.unpack_sequence(out)\n",
    "weights = lstm._flat_weights"
   ]
  },
  {
   "cell_type": "code",
   "execution_count": 16,
   "metadata": {},
   "outputs": [
    {
     "data": {
      "text/plain": [
       "torch.Size([18, 10])"
      ]
     },
     "execution_count": 16,
     "metadata": {},
     "output_type": "execute_result"
    }
   ],
   "source": [
    "e[0].shape"
   ]
  },
  {
   "cell_type": "code",
   "execution_count": 15,
   "metadata": {},
   "outputs": [
    {
     "data": {
      "text/plain": [
       "(torch.Size([18, 20]), torch.Size([4, 20]), torch.Size([4, 20]))"
      ]
     },
     "execution_count": 15,
     "metadata": {},
     "output_type": "execute_result"
    }
   ],
   "source": [
    "out[0].shape, hn[0].shape, cn[0].shape"
   ]
  },
  {
   "cell_type": "code",
   "execution_count": 12,
   "metadata": {},
   "outputs": [
    {
     "data": {
      "text/plain": [
       "[torch.Size([80, 10]),\n",
       " torch.Size([80, 20]),\n",
       " torch.Size([80]),\n",
       " torch.Size([80])]"
      ]
     },
     "execution_count": 12,
     "metadata": {},
     "output_type": "execute_result"
    }
   ],
   "source": [
    "[w.shape for w in weights]"
   ]
  },
  {
   "cell_type": "code",
   "execution_count": 13,
   "metadata": {},
   "outputs": [
    {
     "data": {
      "text/plain": [
       "['weight_ih_l0', 'weight_hh_l0', 'bias_ih_l0', 'bias_hh_l0']"
      ]
     },
     "execution_count": 13,
     "metadata": {},
     "output_type": "execute_result"
    }
   ],
   "source": [
    "lstm._flat_weights_names"
   ]
  },
  {
   "cell_type": "code",
   "execution_count": 17,
   "metadata": {},
   "outputs": [],
   "source": [
    "h0 = torch.zeros(1, 20)\n",
    "c0 = torch.zeros(1, 20)"
   ]
  },
  {
   "cell_type": "code",
   "execution_count": 18,
   "metadata": {},
   "outputs": [
    {
     "data": {
      "text/plain": [
       "torch.Size([1, 10])"
      ]
     },
     "execution_count": 18,
     "metadata": {},
     "output_type": "execute_result"
    }
   ],
   "source": [
    "a[[0], :].shape"
   ]
  },
  {
   "cell_type": "code",
   "execution_count": 34,
   "metadata": {},
   "outputs": [],
   "source": [
    "preact = ((e[0][:4, :] @ weights[0].T + + weights[2]) + (h0 @ weights[1].T + weights[3]))\n",
    "# print(preact.shape)\n",
    "i, f, g, o = torch.split(preact, [20, 20, 20, 20], dim=1)\n",
    "# print(i.shape, f.shape, g.shape, o.shape)\n",
    "i = torch.sigmoid(i)\n",
    "f = torch.sigmoid(f)\n",
    "g = torch.tanh(g)\n",
    "o = torch.sigmoid(o)\n",
    "c1 = f * c0 + i*g\n",
    "h1 = o * torch.tanh(c1)"
   ]
  },
  {
   "cell_type": "code",
   "execution_count": 35,
   "metadata": {},
   "outputs": [
    {
     "data": {
      "text/plain": [
       "(torch.Size([4, 20]), torch.Size([4, 20]))"
      ]
     },
     "execution_count": 35,
     "metadata": {},
     "output_type": "execute_result"
    }
   ],
   "source": [
    "h1.shape, c1.shape"
   ]
  },
  {
   "cell_type": "code",
   "execution_count": 36,
   "metadata": {},
   "outputs": [],
   "source": [
    "preact = (a[[0], :] @ weights[0].T + + weights[2] + h0 @ weights[1].T + weights[3])\n",
    "# print(preact.shape)\n",
    "i, f, g, o = torch.split(preact, [20, 20, 20, 20], dim=1)\n",
    "# print(i.shape, f.shape, g.shape, o.shape)\n",
    "i = torch.sigmoid(i)\n",
    "f = torch.sigmoid(f)\n",
    "g = torch.tanh(g)\n",
    "o = torch.sigmoid(o)\n",
    "c1 = f * c0 + i*g\n",
    "h1 = o * torch.tanh(c1)\n",
    "\n",
    "preact = ((a[[1], :] @ weights[0].T + + weights[2]) + (h1 @ weights[1].T + weights[3]))\n",
    "# print(preact.shape)\n",
    "i, f, g, o = torch.split(preact, [20, 20, 20, 20], dim=1)\n",
    "# print(i.shape, f.shape, g.shape, o.shape)\n",
    "i = torch.sigmoid(i)\n",
    "f = torch.sigmoid(f)\n",
    "g = torch.tanh(g)\n",
    "o = torch.sigmoid(o)\n",
    "c2 = f * c1 + i*g\n",
    "h2 = o * torch.tanh(c2)\n",
    "\n",
    "preact = ((a[[2], :] @ weights[0].T + + weights[2]) + (h2 @ weights[1].T + weights[3]))\n",
    "# print(preact.shape)\n",
    "i, f, g, o = torch.split(preact, [20, 20, 20, 20], dim=1)\n",
    "# print(i.shape, f.shape, g.shape, o.shape)\n",
    "i = torch.sigmoid(i)\n",
    "f = torch.sigmoid(f)\n",
    "g = torch.tanh(g)\n",
    "o = torch.sigmoid(o)\n",
    "c3 = f * c2 + i*g\n",
    "h3 = o * torch.tanh(c3)"
   ]
  },
  {
   "cell_type": "code",
   "execution_count": 37,
   "metadata": {},
   "outputs": [
    {
     "name": "stdout",
     "output_type": "stream",
     "text": [
      "hs | exact: False | approximate: True  | maxdiff: 4.470348358154297e-08\n",
      "\n",
      "h3 | exact: False | approximate: True  | maxdiff: 4.470348358154297e-08\n",
      "\n",
      "c3 | exact: False | approximate: True  | maxdiff: 5.960464477539063e-08\n",
      "\n"
     ]
    }
   ],
   "source": [
    "hs = torch.cat([h1, h2, h3], dim=0)\n",
    "a_out = out_unpacked[0]\n",
    "cmp(\"hs\", hs, a_out)\n",
    "cmp(\"h3\", h3, hn.squeeze(0)[[0], :])\n",
    "cmp(\"c3\", c3, cn.squeeze(0)[[0], :])"
   ]
  },
  {
   "cell_type": "code",
   "execution_count": 30,
   "metadata": {},
   "outputs": [
    {
     "name": "stdout",
     "output_type": "stream",
     "text": [
      "h1 | exact: False | approximate: True  | maxdiff: 2.9802322387695312e-08\n",
      "\n"
     ]
    }
   ],
   "source": [
    "cmp(\"h1\", h1, out_unpacked[0][[0], :])"
   ]
  },
  {
   "cell_type": "code",
   "execution_count": 25,
   "metadata": {},
   "outputs": [
    {
     "data": {
      "text/plain": [
       "torch.Size([1, 20])"
      ]
     },
     "execution_count": 25,
     "metadata": {},
     "output_type": "execute_result"
    }
   ],
   "source": [
    "h1.shape"
   ]
  },
  {
   "cell_type": "code",
   "execution_count": 29,
   "metadata": {},
   "outputs": [
    {
     "data": {
      "text/plain": [
       "torch.Size([3, 20])"
      ]
     },
     "execution_count": 29,
     "metadata": {},
     "output_type": "execute_result"
    }
   ],
   "source": [
    "out_unpacked[0].shape"
   ]
  },
  {
   "cell_type": "code",
   "execution_count": 6,
   "metadata": {},
   "outputs": [],
   "source": [
    "h0 = torch.zeros(1, 20)\n",
    "c0 = torch.zeros(1, 20)\n",
    "h1 = torch.tanh((a[[0], :] @ weights[0].T + weights[2]) + (h0 @ weights[1].T + weights[3]))\n",
    "h2 = torch.tanh((a[[1], :] @ weights[0].T + weights[2]) + (h1 @ weights[1].T + weights[3]))\n",
    "h3 = torch.tanh((a[[2], :] @ weights[0].T + weights[2]) + (h2 @ weights[1].T + weights[3]))"
   ]
  },
  {
   "cell_type": "code",
   "execution_count": 7,
   "metadata": {},
   "outputs": [
    {
     "name": "stdout",
     "output_type": "stream",
     "text": [
      "hs | exact: False | approximate: True  | maxdiff: 1.1920928955078125e-07\n",
      "\n",
      "h3 | exact: False | approximate: True  | maxdiff: 1.1920928955078125e-07\n",
      "\n"
     ]
    }
   ],
   "source": [
    "hs = torch.cat([h1, h2, h3], dim=0)\n",
    "a_out = out_unpacked[0]\n",
    "cmp(\"hs\", hs, a_out)\n",
    "cmp(\"h3\", h3, hidden.squeeze(0)[[0], :])"
   ]
  },
  {
   "cell_type": "code",
   "execution_count": 8,
   "metadata": {},
   "outputs": [
    {
     "name": "stdout",
     "output_type": "stream",
     "text": [
      "0 | exact: True  | approximate: True  | maxdiff: 0.0\n",
      "\n",
      "1 | exact: True  | approximate: True  | maxdiff: 0.0\n",
      "\n",
      "2 | exact: False | approximate: True  | maxdiff: 1.1920928955078125e-07\n",
      "\n",
      "3 | exact: False | approximate: True  | maxdiff: 8.940696716308594e-08\n",
      "\n",
      "4 | exact: False | approximate: True  | maxdiff: 5.960464477539063e-08\n",
      "\n",
      "5 | exact: False | approximate: True  | maxdiff: 1.1920928955078125e-07\n",
      "\n",
      "6 | exact: False | approximate: True  | maxdiff: 8.940696716308594e-08\n",
      "\n",
      "final | exact: False | approximate: True  | maxdiff: 1.1920928955078125e-07\n",
      "\n"
     ]
    }
   ],
   "source": [
    "h = torch.zeros(4, 20)\n",
    "input, batch_sizes, sorted_indices, unsorted_indices = e\n",
    "split_inputs = torch.split(input, list(batch_sizes), dim=0)\n",
    "answers = torch.split(out[0], list(batch_sizes), dim=0)\n",
    "# ordered_list = [c, d, a, b]\n",
    "final = []\n",
    "for i in range(len(batch_sizes)):\n",
    "    size = batch_sizes[i]\n",
    "    while size < h.shape[0]:\n",
    "        final.insert(0, h[[-1], :])\n",
    "        h = h[:-1, :]\n",
    "    # h = h[:size, :]\n",
    "    h = torch.tanh((split_inputs[i] @ weights[0].T + weights[2]) + (h @ weights[1].T + weights[3]))\n",
    "    cmp(i, h, answers[i])\n",
    "final.insert(0, h)\n",
    "final = torch.cat(final, dim=0)\n",
    "final = final.index_select(0, unsorted_indices)\n",
    "cmp(\"final\", final, hidden)"
   ]
  },
  {
   "cell_type": "code",
   "execution_count": null,
   "metadata": {},
   "outputs": [],
   "source": []
  },
  {
   "cell_type": "code",
   "execution_count": 39,
   "metadata": {},
   "outputs": [],
   "source": [
    "class LSTM:\n",
    "\n",
    "    def __init__(self, input_size, hidden_size, device = torch.device(\"cpu\")) -> None:\n",
    "        self.input_size = input_size\n",
    "        self.hidden_size = hidden_size\n",
    "        self.device = device\n",
    "        self.wih = torch.randn(4 * hidden_size, input_size).uniform_(-hidden_size**-0.5, hidden_size**-0.5).to(device)\n",
    "        self.whh = torch.randn(4 * hidden_size, hidden_size).uniform_(-hidden_size**-0.5, hidden_size**-0.5).to(device)\n",
    "        self.bih = torch.randn(4 * hidden_size).uniform_(-hidden_size**-0.5, hidden_size**-0.5).to(device)\n",
    "        self.bhh = torch.randn(4 * hidden_size).uniform_(-hidden_size**-0.5, hidden_size**-0.5).to(device)\n",
    "\n",
    "    def forward(self, input, hx = None):\n",
    "        input, batch_sizes, sorted_indices, unsorted_indices = input\n",
    "        max_batch_size = int(batch_sizes[0])\n",
    "\n",
    "        if hx is None:\n",
    "            hidden = torch.zeros(max_batch_size, self.hidden_size).to(self.device)\n",
    "            cell = torch.zeros(max_batch_size, self.hidden_size).to(self.device)\n",
    "        else:\n",
    "            hidden = hx[0].index_select(0, sorted_indices)\n",
    "            cell = hx[1].index_select(0, sorted_indices)\n",
    "\n",
    "        split_inputs = torch.split(input, list(batch_sizes), dim=0)\n",
    "        out = []\n",
    "        out_hidden = []\n",
    "        out_cell = []\n",
    "        for i in range(len(batch_sizes)):\n",
    "            size = batch_sizes[i]\n",
    "            diff = hidden.shape[0] - size\n",
    "            if diff > 0:\n",
    "                out_hidden.insert(0, hidden[-diff:, :])\n",
    "                out_cell.insert(0, cell[-diff:, :])\n",
    "                hidden = hidden[:size, :]\n",
    "                cell = cell[:size, :]\n",
    "\n",
    "            preact = (split_inputs[i] @ self.wih.T + self.bih + hidden @ self.whh.T + self.bhh)\n",
    "            i, f, g, o = torch.split(preact, [20, 20, 20, 20], dim=1)\n",
    "            i = torch.sigmoid(i)\n",
    "            f = torch.sigmoid(f)\n",
    "            g = torch.tanh(g)\n",
    "            o = torch.sigmoid(o)\n",
    "            cell = f * cell + i*g\n",
    "            hidden = o * torch.tanh(cell)\n",
    "            out.append(hidden)\n",
    "        out_hidden.insert(0, hidden)\n",
    "        out_cell.insert(0, cell)\n",
    "        out_hidden = torch.cat(out_hidden, dim=0).index_select(0, unsorted_indices)\n",
    "        out_cell = torch.cat(out_cell, dim=0).index_select(0, unsorted_indices)\n",
    "        out = torch.cat(out, dim=0)\n",
    "        out = PackedSequence(out, batch_sizes, sorted_indices, unsorted_indices)\n",
    "\n",
    "        return out, (out_hidden, out_cell)\n",
    "\n",
    "    def parameters(self):\n",
    "        return [self.wih, self.whh, self.bih, self.bhh]\n",
    "    \n",
    "    def to(self, device):\n",
    "        self.device = device\n",
    "        self.wih = self.wih.to(device)\n",
    "        self.whh = self.whh.to(device)\n",
    "        self.bih = self.bih.to(device)\n",
    "        self.bhh = self.bhh.to(device)"
   ]
  },
  {
   "cell_type": "code",
   "execution_count": 42,
   "metadata": {},
   "outputs": [],
   "source": [
    "torch.manual_seed(42)\n",
    "a = torch.randn(3, 10)\n",
    "b = torch.randn(2, 10)\n",
    "c = torch.randn(7, 10)\n",
    "d = torch.randn(6, 10)\n",
    "e = pack_sequence([a, b, c, d], enforce_sorted=False)\n",
    "lstm = LSTM(input_size = 10, hidden_size = 20)\n",
    "out, (hn, cn) = lstm.forward(e)\n",
    "out_unpacked = torch.nn.utils.rnn.unpack_sequence(out)\n",
    "weights = lstm.parameters()"
   ]
  },
  {
   "cell_type": "code",
   "execution_count": 45,
   "metadata": {},
   "outputs": [
    {
     "name": "stdout",
     "output_type": "stream",
     "text": [
      "0 | exact: True  | approximate: True  | maxdiff: 0.0\n",
      "\n",
      "1 | exact: True  | approximate: True  | maxdiff: 0.0\n",
      "\n",
      "2 | exact: True  | approximate: True  | maxdiff: 0.0\n",
      "\n",
      "3 | exact: True  | approximate: True  | maxdiff: 0.0\n",
      "\n",
      "4 | exact: True  | approximate: True  | maxdiff: 0.0\n",
      "\n",
      "5 | exact: True  | approximate: True  | maxdiff: 0.0\n",
      "\n",
      "6 | exact: True  | approximate: True  | maxdiff: 0.0\n",
      "\n",
      "final | exact: True  | approximate: True  | maxdiff: 0.0\n",
      "\n",
      "final | exact: True  | approximate: True  | maxdiff: 0.0\n",
      "\n"
     ]
    }
   ],
   "source": [
    "h = torch.zeros(4, 20)\n",
    "c = torch.zeros(4, 20)\n",
    "input, batch_sizes, sorted_indices, unsorted_indices = e\n",
    "split_inputs = torch.split(input, list(batch_sizes), dim=0)\n",
    "answers = torch.split(out[0], list(batch_sizes), dim=0)\n",
    "# ordered_list = [c, d, a, b]\n",
    "final_hidden = []\n",
    "final_cell = []\n",
    "for j in range(len(batch_sizes)):\n",
    "    size = batch_sizes[j]\n",
    "    while size < h.shape[0]:\n",
    "        final_hidden.insert(0, h[[-1], :])\n",
    "        final_cell.insert(0, c[[-1], :])\n",
    "        h = h[:-1, :]\n",
    "        c = c[:-1, :]\n",
    "\n",
    "    preact = (split_inputs[j] @ weights[0].T + + weights[2] + h @ weights[1].T + weights[3])\n",
    "    # print(preact.shape)\n",
    "    i, f, g, o = torch.split(preact, [20, 20, 20, 20], dim=1)\n",
    "    # print(i.shape, f.shape, g.shape, o.shape)\n",
    "    i = torch.sigmoid(i)\n",
    "    f = torch.sigmoid(f)\n",
    "    g = torch.tanh(g)\n",
    "    o = torch.sigmoid(o)\n",
    "    c = f * c + i*g\n",
    "    h = o * torch.tanh(c)\n",
    "    cmp(j, h, answers[j])\n",
    "final_hidden.insert(0, h)\n",
    "final_cell.insert(0, c)\n",
    "final_hidden = torch.cat(final_hidden, dim=0)\n",
    "final_cell = torch.cat(final_cell, dim=0)\n",
    "final_hidden = final_hidden.index_select(0, unsorted_indices)\n",
    "final_cell = final_cell.index_select(0, unsorted_indices)\n",
    "cmp(\"final\", final_hidden, hn)\n",
    "cmp(\"final\", final_cell, cn)"
   ]
  },
  {
   "cell_type": "code",
   "execution_count": null,
   "metadata": {},
   "outputs": [],
   "source": []
  }
 ],
 "metadata": {
  "kernelspec": {
   "display_name": ".env",
   "language": "python",
   "name": "python3"
  },
  "language_info": {
   "codemirror_mode": {
    "name": "ipython",
    "version": 3
   },
   "file_extension": ".py",
   "mimetype": "text/x-python",
   "name": "python",
   "nbconvert_exporter": "python",
   "pygments_lexer": "ipython3",
   "version": "3.10.6"
  },
  "orig_nbformat": 4
 },
 "nbformat": 4,
 "nbformat_minor": 2
}
