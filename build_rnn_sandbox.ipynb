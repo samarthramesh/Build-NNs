{
 "cells": [
  {
   "cell_type": "code",
   "execution_count": 1,
   "metadata": {},
   "outputs": [],
   "source": [
    "import torch\n",
    "import torch.nn.functional as F\n",
    "import matplotlib.pyplot as plt # for making figures\n",
    "import random\n",
    "\n",
    "from torch.nn.utils.rnn import PackedSequence\n",
    "%matplotlib inline"
   ]
  },
  {
   "cell_type": "code",
   "execution_count": 2,
   "metadata": {},
   "outputs": [
    {
     "name": "stdout",
     "output_type": "stream",
     "text": [
      "32033\n",
      "15\n",
      "['emma', 'olivia', 'ava', 'isabella', 'sophia', 'charlotte', 'mia', 'amelia']\n"
     ]
    }
   ],
   "source": [
    "# read in all the words\n",
    "words = open('names.txt', 'r').read().splitlines()\n",
    "print(len(words))\n",
    "print(max(len(w) for w in words))\n",
    "print(words[:8])"
   ]
  },
  {
   "cell_type": "code",
   "execution_count": 3,
   "metadata": {},
   "outputs": [
    {
     "name": "stdout",
     "output_type": "stream",
     "text": [
      "{2: 'a', 3: 'b', 4: 'c', 5: 'd', 6: 'e', 7: 'f', 8: 'g', 9: 'h', 10: 'i', 11: 'j', 12: 'k', 13: 'l', 14: 'm', 15: 'n', 16: 'o', 17: 'p', 18: 'q', 19: 'r', 20: 's', 21: 't', 22: 'u', 23: 'v', 24: 'w', 25: 'x', 26: 'y', 27: 'z', 0: '#', 1: '.'}\n",
      "28\n"
     ]
    }
   ],
   "source": [
    "# build the vocabulary of characters and mappings to/from integers\n",
    "chars = sorted(list(set(''.join(words))))\n",
    "stoi = {s:i+2 for i,s in enumerate(chars)}\n",
    "stoi['#'] = 0\n",
    "stoi['.'] = 1\n",
    "itos = {i:s for s,i in stoi.items()}\n",
    "vocab_size = len(itos)\n",
    "print(itos)\n",
    "print(vocab_size)"
   ]
  },
  {
   "cell_type": "code",
   "execution_count": 4,
   "metadata": {},
   "outputs": [
    {
     "data": {
      "text/plain": [
       "[3, 4]"
      ]
     },
     "execution_count": 4,
     "metadata": {},
     "output_type": "execute_result"
    }
   ],
   "source": [
    "[*map(stoi.get, ['a','b', 'c'])][1:]"
   ]
  },
  {
   "cell_type": "code",
   "execution_count": 5,
   "metadata": {},
   "outputs": [],
   "source": [
    "# shuffle up the words\n",
    "random.seed(42)\n",
    "random.shuffle(words)"
   ]
  },
  {
   "cell_type": "code",
   "execution_count": 6,
   "metadata": {},
   "outputs": [],
   "source": [
    "# # build the dataset\n",
    "\n",
    "# def build_dataset(words):  \n",
    "#   X, Y = [], []\n",
    "  \n",
    "#   for w in words:\n",
    "#     context = [0] * block_size\n",
    "#     for ch in w + '.':\n",
    "#       ix = stoi[ch]\n",
    "#       X.append(context)\n",
    "#       Y.append(ix)\n",
    "#       context = context[1:] + [ix] # crop and append\n",
    "\n",
    "#   X = torch.tensor(X)\n",
    "#   Y = torch.tensor(Y)\n",
    "#   print(X.shape, Y.shape)\n",
    "#   return X, Y\n",
    "\n",
    "# n1 = int(0.8*len(words))\n",
    "# n2 = int(0.9*len(words))\n",
    "# Xtr,  Ytr  = build_dataset(words[:n1])     # 80%\n",
    "# Xdev, Ydev = build_dataset(words[n1:n2])   # 10%\n",
    "# Xte,  Yte  = build_dataset(words[n2:])     # 10%"
   ]
  },
  {
   "cell_type": "code",
   "execution_count": 7,
   "metadata": {},
   "outputs": [],
   "source": [
    "thing = torch.randn(1,2,3)"
   ]
  },
  {
   "cell_type": "code",
   "execution_count": 8,
   "metadata": {},
   "outputs": [
    {
     "data": {
      "text/plain": [
       "tensor([[[ 0.2158,  0.7893,  0.3984],\n",
       "         [-0.8623, -0.2438, -0.5209]]])"
      ]
     },
     "execution_count": 8,
     "metadata": {},
     "output_type": "execute_result"
    }
   ],
   "source": [
    "thing"
   ]
  },
  {
   "cell_type": "code",
   "execution_count": 9,
   "metadata": {},
   "outputs": [
    {
     "data": {
      "text/plain": [
       "torch.Size([1, 2, 3])"
      ]
     },
     "execution_count": 9,
     "metadata": {},
     "output_type": "execute_result"
    }
   ],
   "source": [
    "thing.size()"
   ]
  },
  {
   "cell_type": "code",
   "execution_count": 10,
   "metadata": {},
   "outputs": [
    {
     "data": {
      "text/plain": [
       "torch.Size([1, 2, 3])"
      ]
     },
     "execution_count": 10,
     "metadata": {},
     "output_type": "execute_result"
    }
   ],
   "source": [
    "thing.shape"
   ]
  },
  {
   "cell_type": "code",
   "execution_count": 11,
   "metadata": {},
   "outputs": [
    {
     "data": {
      "text/plain": [
       "tensor(True)"
      ]
     },
     "execution_count": 11,
     "metadata": {},
     "output_type": "execute_result"
    }
   ],
   "source": [
    "from torch.nn.utils.rnn import pack_sequence, pack_padded_sequence\n",
    "a = torch.randn(3, 10)\n",
    "b = torch.randn(2, 10)\n",
    "c = torch.randn(7, 10)\n",
    "d = pack_sequence([a, b, c], enforce_sorted=False)\n",
    "\n",
    "a = torch.cat((a, torch.zeros(4, 10)))\n",
    "b = torch.cat((b, torch.zeros(5, 10)))\n",
    "f = torch.stack([a, b, c])\n",
    "e = pack_padded_sequence(f, [3,2,7], batch_first = True, enforce_sorted=False)\n",
    "(d[0] == e[0]).all()"
   ]
  },
  {
   "cell_type": "code",
   "execution_count": 12,
   "metadata": {},
   "outputs": [],
   "source": [
    "def cmp(label, t1, t2):\n",
    "  ex = torch.all(t1 == t2).item()\n",
    "  app = torch.allclose(t1, t2, rtol=1e-04, atol=1e-07)\n",
    "  maxdiff = (t1 - t2).abs().max().item()\n",
    "  print(f'{label} | exact: {str(ex):5s} | approximate: {str(app):5s} | maxdiff: {maxdiff}')\n",
    "  print()"
   ]
  },
  {
   "cell_type": "code",
   "execution_count": 48,
   "metadata": {},
   "outputs": [],
   "source": [
    "torch.manual_seed(42)\n",
    "a = torch.randn(3, 10)\n",
    "b = torch.randn(2, 10)\n",
    "c = torch.randn(7, 10)\n",
    "d = torch.randn(6, 10)\n",
    "e = pack_sequence([a, b, c, d], enforce_sorted=False)\n",
    "rnn = torch.nn.RNN(input_size = 10, hidden_size = 20, bidirectional = True)\n",
    "out, hidden = rnn.forward(e)\n",
    "out_unpacked = torch.nn.utils.rnn.unpack_sequence(out)\n",
    "weights = rnn._flat_weights"
   ]
  },
  {
   "cell_type": "code",
   "execution_count": 20,
   "metadata": {},
   "outputs": [
    {
     "data": {
      "text/plain": [
       "(torch.Size([2, 4, 20]), torch.Size([18, 40]))"
      ]
     },
     "execution_count": 20,
     "metadata": {},
     "output_type": "execute_result"
    }
   ],
   "source": [
    "hidden.shape, out[0].shape"
   ]
  },
  {
   "cell_type": "code",
   "execution_count": 15,
   "metadata": {},
   "outputs": [
    {
     "data": {
      "text/plain": [
       "(torch.Size([1, 10]), torch.Size([20, 10]))"
      ]
     },
     "execution_count": 15,
     "metadata": {},
     "output_type": "execute_result"
    }
   ],
   "source": [
    "a[[0], :].shape, weights[0].shape"
   ]
  },
  {
   "cell_type": "code",
   "execution_count": 59,
   "metadata": {},
   "outputs": [
    {
     "name": "stdout",
     "output_type": "stream",
     "text": [
      "torch.Size([20, 10]) weight_ih_l0\n",
      "torch.Size([20, 20]) weight_hh_l0\n",
      "torch.Size([20]) bias_ih_l0\n",
      "torch.Size([20]) bias_hh_l0\n",
      "torch.Size([20, 10]) weight_ih_l0_reverse\n",
      "torch.Size([20, 20]) weight_hh_l0_reverse\n",
      "torch.Size([20]) bias_ih_l0_reverse\n",
      "torch.Size([20]) bias_hh_l0_reverse\n"
     ]
    }
   ],
   "source": [
    "for w, name in zip(weights, rnn._flat_weights_names):\n",
    "    print(w.shape, name)"
   ]
  },
  {
   "cell_type": "code",
   "execution_count": null,
   "metadata": {},
   "outputs": [],
   "source": []
  },
  {
   "cell_type": "code",
   "execution_count": 75,
   "metadata": {},
   "outputs": [],
   "source": [
    "h0f = torch.zeros(1, 20)\n",
    "h1f = torch.tanh((a[[0], :] @ weights[0].T + weights[2]) + (h0f @ weights[1].T + weights[3]))\n",
    "h2f = torch.tanh((a[[1], :] @ weights[0].T + weights[2]) + (h1f @ weights[1].T + weights[3]))\n",
    "h3f = torch.tanh((a[[2], :] @ weights[0].T + weights[2]) + (h2f @ weights[1].T + weights[3]))\n",
    "\n",
    "h0r = torch.zeros(1, 20)\n",
    "h1r = torch.tanh((a[[2], :] @ weights[4].T + weights[6]) + (h0r @ weights[5].T + weights[7]))\n",
    "h2r = torch.tanh((a[[1], :] @ weights[4].T + weights[6]) + (h1r @ weights[5].T + weights[7]))\n",
    "h3r = torch.tanh((a[[0], :] @ weights[4].T + weights[6]) + (h2r @ weights[5].T + weights[7]))\n",
    "\n",
    "h0 = torch.cat([h0f, h0r], dim=1)\n",
    "h1 = torch.cat([h1f, h3r], dim=1)\n",
    "h2 = torch.cat([h2f, h2r], dim=1)\n",
    "h3 = torch.cat([h3f, h1r], dim=1)"
   ]
  },
  {
   "cell_type": "code",
   "execution_count": 79,
   "metadata": {},
   "outputs": [
    {
     "name": "stdout",
     "output_type": "stream",
     "text": [
      "hs | exact: False | approximate: True  | maxdiff: 1.1920928955078125e-07\n",
      "\n",
      "h3 | exact: False | approximate: True  | maxdiff: 1.1920928955078125e-07\n",
      "\n"
     ]
    }
   ],
   "source": [
    "hs = torch.cat([h1, h2, h3], dim=0)\n",
    "a_out = out_unpacked[0]\n",
    "cmp(\"hs\", hs, a_out)\n",
    "cmp(\"h3\", torch.cat([h3f, h3r], dim = 0), hidden[:, 0, :])"
   ]
  },
  {
   "cell_type": "code",
   "execution_count": 74,
   "metadata": {},
   "outputs": [
    {
     "name": "stdout",
     "output_type": "stream",
     "text": [
      "h3 | exact: False | approximate: True  | maxdiff: 5.960464477539063e-08\n",
      "\n"
     ]
    }
   ],
   "source": [
    "cmp(\"h3\", h1r, a_out[[2], 20:])"
   ]
  },
  {
   "cell_type": "code",
   "execution_count": 35,
   "metadata": {},
   "outputs": [
    {
     "data": {
      "text/plain": [
       "torch.Size([3, 40])"
      ]
     },
     "execution_count": 35,
     "metadata": {},
     "output_type": "execute_result"
    }
   ],
   "source": [
    "a_out.shape"
   ]
  },
  {
   "cell_type": "code",
   "execution_count": null,
   "metadata": {},
   "outputs": [],
   "source": []
  },
  {
   "cell_type": "code",
   "execution_count": 7,
   "metadata": {},
   "outputs": [
    {
     "name": "stdout",
     "output_type": "stream",
     "text": [
      "0 | exact: True  | approximate: True  | maxdiff: 0.0\n",
      "\n",
      "1 | exact: True  | approximate: True  | maxdiff: 0.0\n",
      "\n",
      "2 | exact: False | approximate: True  | maxdiff: 1.1920928955078125e-07\n",
      "\n",
      "3 | exact: False | approximate: True  | maxdiff: 8.940696716308594e-08\n",
      "\n",
      "4 | exact: False | approximate: True  | maxdiff: 5.960464477539063e-08\n",
      "\n",
      "5 | exact: False | approximate: True  | maxdiff: 1.1920928955078125e-07\n",
      "\n",
      "6 | exact: False | approximate: True  | maxdiff: 8.940696716308594e-08\n",
      "\n",
      "final | exact: False | approximate: True  | maxdiff: 1.1920928955078125e-07\n",
      "\n"
     ]
    }
   ],
   "source": [
    "h = torch.zeros(4, 20)\n",
    "input, batch_sizes, sorted_indices, unsorted_indices = e\n",
    "split_inputs = torch.split(input, list(batch_sizes), dim=0)\n",
    "answers = torch.split(out[0], list(batch_sizes), dim=0)\n",
    "# ordered_list = [c, d, a, b]\n",
    "final = []\n",
    "for i in range(len(batch_sizes)):\n",
    "    size = batch_sizes[i]\n",
    "    while size < h.shape[0]:\n",
    "        final.insert(0, h[[-1], :])\n",
    "        h = h[:-1, :]\n",
    "    # h = h[:size, :]\n",
    "    h = torch.tanh((split_inputs[i] @ weights[0].T + weights[2]) + (h @ weights[1].T + weights[3]))\n",
    "    cmp(i, h, answers[i])\n",
    "final.insert(0, h)\n",
    "final = torch.cat(final, dim=0)\n",
    "final = final.index_select(0, unsorted_indices)\n",
    "cmp(\"final\", final, hidden)"
   ]
  },
  {
   "cell_type": "code",
   "execution_count": null,
   "metadata": {},
   "outputs": [],
   "source": []
  },
  {
   "cell_type": "code",
   "execution_count": 110,
   "metadata": {},
   "outputs": [
    {
     "data": {
      "text/plain": [
       "torch.Size([4, 20])"
      ]
     },
     "execution_count": 110,
     "metadata": {},
     "output_type": "execute_result"
    }
   ],
   "source": [
    "h.shape"
   ]
  },
  {
   "cell_type": "code",
   "execution_count": 100,
   "metadata": {},
   "outputs": [
    {
     "data": {
      "text/plain": [
       "torch.Size([18, 20])"
      ]
     },
     "execution_count": 100,
     "metadata": {},
     "output_type": "execute_result"
    }
   ],
   "source": [
    "out[0].shape"
   ]
  },
  {
   "cell_type": "code",
   "execution_count": 101,
   "metadata": {},
   "outputs": [],
   "source": [
    "answers = torch.split(out[0], list(batch_sizes), dim=0)"
   ]
  },
  {
   "cell_type": "code",
   "execution_count": 102,
   "metadata": {},
   "outputs": [
    {
     "data": {
      "text/plain": [
       "[torch.Size([4, 20]),\n",
       " torch.Size([4, 20]),\n",
       " torch.Size([3, 20]),\n",
       " torch.Size([2, 20]),\n",
       " torch.Size([2, 20]),\n",
       " torch.Size([2, 20]),\n",
       " torch.Size([1, 20])]"
      ]
     },
     "execution_count": 102,
     "metadata": {},
     "output_type": "execute_result"
    }
   ],
   "source": [
    "[t.shape for t in answers]"
   ]
  },
  {
   "cell_type": "code",
   "execution_count": 98,
   "metadata": {},
   "outputs": [
    {
     "data": {
      "text/plain": [
       "torch.Size([4, 20])"
      ]
     },
     "execution_count": 98,
     "metadata": {},
     "output_type": "execute_result"
    }
   ],
   "source": [
    "h.shape"
   ]
  },
  {
   "cell_type": "code",
   "execution_count": 95,
   "metadata": {},
   "outputs": [
    {
     "data": {
      "text/plain": [
       "tensor([4, 4, 3, 2, 2, 2, 1])"
      ]
     },
     "execution_count": 95,
     "metadata": {},
     "output_type": "execute_result"
    }
   ],
   "source": [
    "batch_sizes"
   ]
  },
  {
   "cell_type": "code",
   "execution_count": 96,
   "metadata": {},
   "outputs": [
    {
     "data": {
      "text/plain": [
       "[torch.Size([4, 10]),\n",
       " torch.Size([4, 10]),\n",
       " torch.Size([3, 10]),\n",
       " torch.Size([2, 10]),\n",
       " torch.Size([2, 10]),\n",
       " torch.Size([2, 10]),\n",
       " torch.Size([1, 10])]"
      ]
     },
     "execution_count": 96,
     "metadata": {},
     "output_type": "execute_result"
    }
   ],
   "source": [
    "[t.shape for t in torch.split(input, list(batch_sizes), dim=0)]"
   ]
  },
  {
   "cell_type": "code",
   "execution_count": 84,
   "metadata": {},
   "outputs": [
    {
     "data": {
      "text/plain": [
       "(torch.Size([1, 20]), torch.Size([20]))"
      ]
     },
     "execution_count": 84,
     "metadata": {},
     "output_type": "execute_result"
    }
   ],
   "source": [
    "(a[[0], :] @ weights[0].T).shape, weights[2].shape"
   ]
  },
  {
   "cell_type": "code",
   "execution_count": 77,
   "metadata": {},
   "outputs": [
    {
     "data": {
      "text/plain": [
       "tensor([[False, False,  True, False, False, False,  True, False,  True, False,\n",
       "          True, False, False, False,  True,  True, False,  True,  True, False],\n",
       "        [False,  True, False, False,  True,  True, False, False, False, False,\n",
       "          True, False,  True, False, False,  True,  True, False, False, False],\n",
       "        [False,  True,  True, False, False, False, False,  True, False, False,\n",
       "         False,  True, False,  True,  True, False,  True,  True,  True, False]])"
      ]
     },
     "execution_count": 77,
     "metadata": {},
     "output_type": "execute_result"
    }
   ],
   "source": [
    "(hs == a_out)"
   ]
  },
  {
   "cell_type": "code",
   "execution_count": 82,
   "metadata": {},
   "outputs": [
    {
     "name": "stdout",
     "output_type": "stream",
     "text": [
      "exact: False | approximate: True  | maxdiff: 1.1920928955078125e-07\n",
      "\n",
      "exact: False | approximate: True  | maxdiff: 1.1920928955078125e-07\n",
      "\n"
     ]
    }
   ],
   "source": []
  },
  {
   "cell_type": "code",
   "execution_count": 81,
   "metadata": {},
   "outputs": [
    {
     "data": {
      "text/plain": [
       "torch.Size([4, 20])"
      ]
     },
     "execution_count": 81,
     "metadata": {},
     "output_type": "execute_result"
    }
   ],
   "source": [
    "hidden.squeeze(0).shape"
   ]
  },
  {
   "cell_type": "code",
   "execution_count": 57,
   "metadata": {},
   "outputs": [
    {
     "data": {
      "text/plain": [
       "[torch.Size([20, 10]),\n",
       " torch.Size([20, 20]),\n",
       " torch.Size([20]),\n",
       " torch.Size([20])]"
      ]
     },
     "execution_count": 57,
     "metadata": {},
     "output_type": "execute_result"
    }
   ],
   "source": [
    "weights = rnn._flat_weights\n",
    "[w.shape for w in weights]"
   ]
  },
  {
   "cell_type": "code",
   "execution_count": 85,
   "metadata": {},
   "outputs": [
    {
     "data": {
      "text/plain": [
       "['weight_ih_l0', 'weight_hh_l0', 'bias_ih_l0', 'bias_hh_l0']"
      ]
     },
     "execution_count": 85,
     "metadata": {},
     "output_type": "execute_result"
    }
   ],
   "source": [
    "rnn._flat_weights_names"
   ]
  },
  {
   "cell_type": "code",
   "execution_count": null,
   "metadata": {},
   "outputs": [],
   "source": []
  },
  {
   "cell_type": "code",
   "execution_count": 17,
   "metadata": {},
   "outputs": [
    {
     "data": {
      "text/plain": [
       "(torch.Size([12, 10]),\n",
       " tensor([3, 3, 2, 1, 1, 1, 1]),\n",
       " tensor([2, 0, 1]),\n",
       " tensor([1, 2, 0]))"
      ]
     },
     "execution_count": 17,
     "metadata": {},
     "output_type": "execute_result"
    }
   ],
   "source": [
    "d[0].shape, d[1], d[2], d[3]"
   ]
  },
  {
   "cell_type": "code",
   "execution_count": 16,
   "metadata": {},
   "outputs": [
    {
     "data": {
      "text/plain": [
       "(torch.Size([12, 10]),\n",
       " tensor([3, 3, 2, 1, 1, 1, 1]),\n",
       " tensor([2, 0, 1]),\n",
       " tensor([1, 2, 0]))"
      ]
     },
     "execution_count": 16,
     "metadata": {},
     "output_type": "execute_result"
    }
   ],
   "source": [
    "out[0][0].shape, out[0][1], out[0][2], out[0][3]"
   ]
  },
  {
   "cell_type": "code",
   "execution_count": 18,
   "metadata": {},
   "outputs": [
    {
     "data": {
      "text/plain": [
       "torch.Size([1, 3, 10])"
      ]
     },
     "execution_count": 18,
     "metadata": {},
     "output_type": "execute_result"
    }
   ],
   "source": [
    "out[1].shape"
   ]
  },
  {
   "cell_type": "code",
   "execution_count": null,
   "metadata": {},
   "outputs": [],
   "source": [
    "torch.nn.utils.rnn.unpack_sequence()"
   ]
  },
  {
   "cell_type": "code",
   "execution_count": 28,
   "metadata": {},
   "outputs": [
    {
     "data": {
      "text/plain": [
       "[torch.Size([10, 10]),\n",
       " torch.Size([10, 10]),\n",
       " torch.Size([10]),\n",
       " torch.Size([10])]"
      ]
     },
     "execution_count": 28,
     "metadata": {},
     "output_type": "execute_result"
    }
   ],
   "source": [
    "[w.shape for w in rnn._flat_weights]"
   ]
  },
  {
   "cell_type": "code",
   "execution_count": null,
   "metadata": {},
   "outputs": [],
   "source": []
  },
  {
   "cell_type": "code",
   "execution_count": 54,
   "metadata": {},
   "outputs": [
    {
     "data": {
      "text/plain": [
       "torch.Size([3, 7, 10])"
      ]
     },
     "execution_count": 54,
     "metadata": {},
     "output_type": "execute_result"
    }
   ],
   "source": [
    "f.shape"
   ]
  },
  {
   "cell_type": "code",
   "execution_count": 55,
   "metadata": {},
   "outputs": [
    {
     "data": {
      "text/plain": [
       "(torch.Size([12, 10]), torch.Size([12, 10]))"
      ]
     },
     "execution_count": 55,
     "metadata": {},
     "output_type": "execute_result"
    }
   ],
   "source": [
    "d.data.shape, e.data.shape"
   ]
  },
  {
   "cell_type": "code",
   "execution_count": 56,
   "metadata": {},
   "outputs": [
    {
     "data": {
      "text/plain": [
       "PackedSequence(data=tensor([[ 3.0735e-01, -2.6678e-01, -3.0902e-01, -1.1208e+00, -3.2936e-01,\n",
       "          9.3997e-01,  4.4931e-01, -3.2858e-01,  1.5793e+00, -4.5184e-01],\n",
       "        [ 2.9325e-01, -2.9306e-01, -8.9733e-01, -5.9929e-02,  2.3169e-01,\n",
       "         -4.0382e-01, -1.3285e+00, -1.4221e+00,  6.5656e-01, -1.2048e+00],\n",
       "        [ 1.4668e+00, -1.2524e+00,  8.0810e-01,  1.6108e-01,  7.2651e-01,\n",
       "          1.9860e-01, -1.2810e+00,  6.2184e-01,  3.7555e-01, -4.4060e-01],\n",
       "        [ 6.1136e-01,  2.2960e+00,  7.1144e-01, -9.4992e-01,  1.6331e+00,\n",
       "         -1.3578e-01, -6.8200e-01,  1.1770e+00, -6.7226e-01,  4.7319e-01],\n",
       "        [ 1.1006e+00, -1.1622e+00,  3.4273e+00,  2.6590e-02,  3.6384e-01,\n",
       "          1.8749e+00,  1.0857e+00, -5.7192e-01, -1.9600e-01, -1.0567e+00],\n",
       "        [-5.5180e-01, -8.6533e-01, -1.0941e-01, -8.8519e-01,  4.8411e-01,\n",
       "         -2.4756e-02, -5.5840e-01, -6.4298e-01, -1.7691e-01, -5.6977e-01],\n",
       "        [-5.4802e-01, -6.3640e-01,  8.6379e-01, -8.6455e-01,  1.5797e+00,\n",
       "          8.7831e-01, -1.6472e+00,  1.3595e+00,  1.0125e-01, -6.3921e-01],\n",
       "        [-7.3773e-01, -1.9327e-01,  2.5596e-01, -9.4856e-01, -3.6292e-01,\n",
       "         -7.0421e-01, -1.3211e+00,  2.5791e-01, -3.9197e-01, -1.0287e-02],\n",
       "        [ 1.0354e+00, -1.7310e+00,  9.2028e-01, -1.8760e-02, -1.3616e+00,\n",
       "         -1.1163e+00,  2.5115e-01,  8.1773e-01,  2.3748e-01, -1.0003e+00],\n",
       "        [-4.8584e-01,  5.2030e-01, -8.3122e-01,  9.6002e-01, -5.5075e-01,\n",
       "         -1.0491e-01,  3.2183e-01,  8.2446e-01, -5.0134e-01,  4.3365e-01],\n",
       "        [-7.7747e-01,  2.0212e+00,  1.6221e+00, -1.1373e+00,  9.1077e-01,\n",
       "         -1.0029e-01,  1.8118e+00,  3.3128e-02,  1.2728e+00, -5.5830e-01],\n",
       "        [-8.1163e-01, -1.4657e-03,  1.5528e+00, -2.5473e-01, -1.8252e+00,\n",
       "          1.6111e-02, -1.1298e+00, -7.8047e-01, -1.5786e-01,  5.9206e-01]]), batch_sizes=tensor([3, 3, 2, 1, 1, 1, 1]), sorted_indices=tensor([2, 0, 1]), unsorted_indices=tensor([1, 2, 0]))"
      ]
     },
     "execution_count": 56,
     "metadata": {},
     "output_type": "execute_result"
    }
   ],
   "source": [
    "e"
   ]
  },
  {
   "cell_type": "code",
   "execution_count": 151,
   "metadata": {},
   "outputs": [],
   "source": [
    "# fix initialisation values\n",
    "\n",
    "class RNN:\n",
    "    def __init__(self, input_size, hidden_size, act_fn = torch.tanh) -> None:\n",
    "        self.input_size = input_size\n",
    "        self.hidden_size = hidden_size\n",
    "        self.act_fn = act_fn\n",
    "        self.wih = torch.randn(hidden_size, input_size)\n",
    "        self.whh = torch.randn(hidden_size, hidden_size)\n",
    "        self.bih = torch.randn(hidden_size)\n",
    "        self.bhh = torch.randn(hidden_size)\n",
    "\n",
    "    def forward(self, input, hidden=None):\n",
    "        input, batch_sizes, sorted_indices, unsorted_indices = input\n",
    "        max_batch_size = int(batch_sizes[0])\n",
    "\n",
    "        if hidden is None:\n",
    "            hidden = torch.zeros(max_batch_size, self.hidden_size)\n",
    "        else:\n",
    "            hidden = hidden.index_select(0, sorted_indices)\n",
    "\n",
    "        split_inputs = torch.split(input, list(batch_sizes), dim=0)\n",
    "        out = []\n",
    "        out_hidden = []\n",
    "        for i in range(len(batch_sizes)):\n",
    "            size = batch_sizes[i]\n",
    "            diff = hidden.shape[0] - size\n",
    "            if diff > 0:\n",
    "                out_hidden.insert(0, hidden[-diff:, :])\n",
    "                hidden = hidden[:size, :]\n",
    "            hidden = torch.tanh((split_inputs[i] @ self.wih.T + self.bih) + hidden @ self.whh.T + self.bhh)\n",
    "            out.append(hidden)\n",
    "        out_hidden.insert(0, hidden)\n",
    "        out_hidden = torch.cat(out_hidden, dim=0).index_select(0, unsorted_indices)\n",
    "        out = torch.cat(out, dim=0)\n",
    "        out = PackedSequence(out, batch_sizes, sorted_indices, unsorted_indices)\n",
    "\n",
    "        return out, out_hidden\n",
    "\n",
    "    def parameters(self):\n",
    "        return [self.wih, self.whh, self.bih, self.bhh]"
   ]
  },
  {
   "cell_type": "code",
   "execution_count": 154,
   "metadata": {},
   "outputs": [],
   "source": [
    "torch.manual_seed(42)\n",
    "a = torch.randn(3, 10)\n",
    "b = torch.randn(2, 10)\n",
    "c = torch.randn(7, 10)\n",
    "d = torch.randn(6, 10)\n",
    "e = pack_sequence([a, b, c, d], enforce_sorted=False)\n",
    "rnn = RNN(input_size = 10, hidden_size = 20)\n",
    "out, hidden = rnn.forward(e)\n",
    "out_unpacked = torch.nn.utils.rnn.unpack_sequence(out)\n",
    "weights = rnn.parameters()"
   ]
  },
  {
   "cell_type": "code",
   "execution_count": 157,
   "metadata": {},
   "outputs": [
    {
     "name": "stdout",
     "output_type": "stream",
     "text": [
      "0 | exact: True  | approximate: True  | maxdiff: 0.0\n",
      "\n",
      "1 | exact: False | approximate: True  | maxdiff: 1.1920928955078125e-07\n",
      "\n",
      "2 | exact: False | approximate: True  | maxdiff: 2.980232238769531e-07\n",
      "\n",
      "3 | exact: False | approximate: True  | maxdiff: 3.8743019104003906e-07\n",
      "\n",
      "4 | exact: False | approximate: True  | maxdiff: 3.5762786865234375e-07\n",
      "\n",
      "5 | exact: False | approximate: True  | maxdiff: 7.748603820800781e-07\n",
      "\n",
      "6 | exact: False | approximate: True  | maxdiff: 1.043081283569336e-07\n",
      "\n",
      "final | exact: False | approximate: True  | maxdiff: 7.748603820800781e-07\n",
      "\n"
     ]
    }
   ],
   "source": [
    "h = torch.zeros(4, 20)\n",
    "input, batch_sizes, sorted_indices, unsorted_indices = e\n",
    "split_inputs = torch.split(input, list(batch_sizes), dim=0)\n",
    "answers = torch.split(out[0], list(batch_sizes), dim=0)\n",
    "# ordered_list = [c, d, a, b]\n",
    "final = []\n",
    "for i in range(len(batch_sizes)):\n",
    "    size = batch_sizes[i]\n",
    "    while size < h.shape[0]:\n",
    "        final.insert(0, h[[-1], :])\n",
    "        h = h[:-1, :]\n",
    "    # h = h[:size, :]\n",
    "    h = torch.tanh((split_inputs[i] @ weights[0].T + weights[2]) + (h @ weights[1].T + weights[3]))\n",
    "    cmp(i, h, answers[i])\n",
    "final.insert(0, h)\n",
    "final = torch.cat(final, dim=0)\n",
    "final = final.index_select(0, unsorted_indices)\n",
    "cmp(\"final\", final, hidden)"
   ]
  },
  {
   "cell_type": "code",
   "execution_count": null,
   "metadata": {},
   "outputs": [],
   "source": []
  }
 ],
 "metadata": {
  "kernelspec": {
   "display_name": ".env",
   "language": "python",
   "name": "python3"
  },
  "language_info": {
   "codemirror_mode": {
    "name": "ipython",
    "version": 3
   },
   "file_extension": ".py",
   "mimetype": "text/x-python",
   "name": "python",
   "nbconvert_exporter": "python",
   "pygments_lexer": "ipython3",
   "version": "3.10.6"
  },
  "orig_nbformat": 4
 },
 "nbformat": 4,
 "nbformat_minor": 2
}
